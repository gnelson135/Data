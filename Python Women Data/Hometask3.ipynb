{
 "metadata": {
  "language_info": {
   "codemirror_mode": {
    "name": "ipython",
    "version": 3
   },
   "file_extension": ".py",
   "mimetype": "text/x-python",
   "name": "python",
   "nbconvert_exporter": "python",
   "pygments_lexer": "ipython3",
   "version": "3.8.3-final"
  },
  "orig_nbformat": 2,
  "kernelspec": {
   "name": "python3",
   "display_name": "Python 3",
   "language": "python"
  }
 },
 "nbformat": 4,
 "nbformat_minor": 2,
 "cells": [
  {
   "cell_type": "code",
   "execution_count": 1,
   "metadata": {},
   "outputs": [],
   "source": [
    "import numpy as np"
   ]
  },
  {
   "cell_type": "code",
   "execution_count": 2,
   "metadata": {},
   "outputs": [
    {
     "output_type": "stream",
     "name": "stdout",
     "text": [
      "[0. 0. 0. 0. 0. 0. 0. 0.]\n"
     ]
    }
   ],
   "source": [
    "a = np.zeros(8)\n",
    "\n",
    "print(a)"
   ]
  },
  {
   "cell_type": "code",
   "execution_count": 4,
   "metadata": {},
   "outputs": [
    {
     "output_type": "stream",
     "name": "stdout",
     "text": [
      "[5. 5. 5. 5. 5. 5. 5. 5.]\n"
     ]
    }
   ],
   "source": [
    "print(a + 5)\n",
    "\n"
   ]
  },
  {
   "cell_type": "code",
   "execution_count": 6,
   "metadata": {},
   "outputs": [
    {
     "output_type": "stream",
     "name": "stdout",
     "text": [
      "0.0\n"
     ]
    }
   ],
   "source": [
    "sum = np.sum(a)\n",
    "print(sum)"
   ]
  },
  {
   "cell_type": "code",
   "execution_count": 11,
   "metadata": {},
   "outputs": [
    {
     "output_type": "stream",
     "name": "stdout",
     "text": [
      "[0 1 2 3 4 5 6 7 8 9]\n"
     ]
    }
   ],
   "source": [
    "q1 = np.arange(10)\n",
    "\n",
    "print(q1)"
   ]
  },
  {
   "cell_type": "code",
   "execution_count": 14,
   "metadata": {},
   "outputs": [
    {
     "output_type": "stream",
     "name": "stdout",
     "text": [
      "[[ True  True  True]\n [ True  True  True]\n [ True  True  True]]\n"
     ]
    }
   ],
   "source": [
    "q2 = np.ones((3,3), dtype=bool)\n",
    "print(q2)\n"
   ]
  },
  {
   "cell_type": "code",
   "execution_count": 23,
   "metadata": {},
   "outputs": [
    {
     "output_type": "stream",
     "name": "stdout",
     "text": [
      "[ 1  2  3  4  5  6  7  8  9 10]\n[1 3 5 7 9]\n"
     ]
    }
   ],
   "source": [
    "#Q3 - Extract all odd numbers from array of 1-10\n",
    "\n",
    "q3 = np.arange(1,11)\n",
    "print(q3)\n",
    "\n",
    "print(q3[0:11:2])"
   ]
  },
  {
   "cell_type": "code",
   "execution_count": 104,
   "metadata": {},
   "outputs": [
    {
     "output_type": "stream",
     "name": "stdout",
     "text": [
      "[ 1  2  3  4  5  6  7  8  9 10]\n[-1  2 -1  4 -1  6 -1  8 -1 10]\n"
     ]
    }
   ],
   "source": [
    "q4 = np.arange(1,11)\n",
    "print(q4)\n",
    "second_q4 =np.arange(1,11)\n",
    "second_q4[second_q4%2 == 1] =-1\n",
    "print(second_q4)"
   ]
  },
  {
   "cell_type": "code",
   "execution_count": 49,
   "metadata": {},
   "outputs": [
    {
     "output_type": "stream",
     "name": "stdout",
     "text": [
      "[ 0  5 10 15 20 25 30 35 40 45 50 55]\nq5 is now : [[ 0  5 10 15 20 25]\n [30 35 40 45 50 55]]\n"
     ]
    }
   ],
   "source": [
    "q5 = np.arange(0,60,5)\n",
    "print(q5)\n",
    "\n",
    "amended_q5 = q5.reshape(2,6)\n",
    "print(\"q5 is now :\",amended_q5)"
   ]
  },
  {
   "cell_type": "code",
   "execution_count": 114,
   "metadata": {},
   "outputs": [
    {
     "output_type": "stream",
     "name": "stdout",
     "text": [
      "[[ 2  4  4]\n [ 8 12  9]\n [ 9  3  1]\n [ 1  3  7]\n [ 9 11  8]\n [ 1  4  6]]\n[[ 42  66  70]\n [125 192 206]\n [ 37  64  93]]\nSum of Dot is : 895\nSum of arrays is: 102\n"
     ]
    }
   ],
   "source": [
    "#Create two arrayss a and b, stack these arrays vertically use the np.dot and np.sum to calculate totals\n",
    "\n",
    "import numpy as np\n",
    "aa = np.array([[2,4,4],[8,12,9],[9,3,1]])\n",
    "bb= np.array([[1,3,7],[9,11,8],[1,4,6]])\n",
    "\n",
    "#print(aa)\n",
    "#print(bb)\n",
    "\n",
    "ab =np.vstack([aa,bb])\n",
    "print(ab)\n",
    "\n",
    "c = np.dot(aa ,bb)\n",
    "print(c)\n",
    "\n",
    "sum = np.sum(c)\n",
    "sum1 = np.sum( ab)\n",
    "print(\"Sum of Dot is :\",sum)\n",
    "print(\"Sum of arrays is:\", sum1)"
   ]
  },
  {
   "cell_type": "code",
   "execution_count": null,
   "metadata": {},
   "outputs": [],
   "source": []
  }
 ]
}