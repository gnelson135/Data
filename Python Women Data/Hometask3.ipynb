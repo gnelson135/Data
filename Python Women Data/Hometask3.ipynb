{
 "metadata": {
  "language_info": {
   "codemirror_mode": {
    "name": "ipython",
    "version": 3
   },
   "file_extension": ".py",
   "mimetype": "text/x-python",
   "name": "python",
   "nbconvert_exporter": "python",
   "pygments_lexer": "ipython3",
   "version": "3.8.3-final"
  },
  "orig_nbformat": 2,
  "kernelspec": {
   "name": "python3",
   "display_name": "Python 3",
   "language": "python"
  }
 },
 "nbformat": 4,
 "nbformat_minor": 2,
 "cells": [
  {
   "cell_type": "code",
   "execution_count": 201,
   "metadata": {},
   "outputs": [],
   "source": [
    "#Task 1\n",
    "my_file = open(\"numbers_file.txt\",\"w\")\n",
    "data1 =input(\"Tell me 4 numbers ?\")\n",
    "my_file.write(data1)\n",
    "my_file.close()"
   ]
  },
  {
   "cell_type": "code",
   "execution_count": null,
   "metadata": {},
   "outputs": [],
   "source": [
    "#Task 1\n",
    "my_file = open(\"numbers_file.txt\",\"w\")\n",
    "data1 =input(int(\"Tell me 4 numbers ?\"))\n",
    "my_file.write(data1)\n",
    "my_file.close()\n",
    "\n",
    "\n",
    "\n",
    "#Task 2\n",
    "student_mark = int(input(\"What is you mark? \"))\n",
    "\n",
    "def mark_student(student_mark):\n",
    "\n",
    "  if student_mark <=50:\n",
    "    print(\"Your grade is:D\")\n",
    "  elif student_mark >50 and student_mark <=65:\n",
    "    print(\"Your grade is:C\")\n",
    "  elif student_mark >65 and student_mark <=77:\n",
    "    print(\"Your grade is:\", \"B\")\n",
    "  else:\n",
    "    print(\"Your grade is:A\")\n",
    "  return\n",
    "mark_student(student_mark)\n",
    "# Extension Task 2\n",
    "target_mark = int(input(\"What is you target mark? \"))\n",
    "student_name = input(\"what is your name ?\")\n",
    "if student_mark < target_mark:\n",
    "  print(\"Keep going\", student_name + \",your nearly at your target grade\")\n",
    "elif student_mark == target_mark:\n",
    "  print(\"Congratualations\", student_name+ \" you have met your target grade !\")\n",
    "else:\n",
    "  print(student_name, \"Your above target great job\")"
   ]
  },
  {
   "cell_type": "code",
   "execution_count": 1,
   "metadata": {},
   "outputs": [],
   "source": [
    "import numpy as np"
   ]
  },
  {
   "cell_type": "code",
   "execution_count": 11,
   "metadata": {},
   "outputs": [
    {
     "output_type": "stream",
     "name": "stdout",
     "text": [
      "[0 1 2 3 4 5 6 7 8 9]\n"
     ]
    }
   ],
   "source": [
    "q1 = np.arange(10)\n",
    "\n",
    "print(q1)"
   ]
  },
  {
   "cell_type": "code",
   "execution_count": 14,
   "metadata": {},
   "outputs": [
    {
     "output_type": "stream",
     "name": "stdout",
     "text": [
      "[[ True  True  True]\n [ True  True  True]\n [ True  True  True]]\n"
     ]
    }
   ],
   "source": [
    "q2 = np.ones((3,3), dtype=bool)\n",
    "print(q2)\n"
   ]
  },
  {
   "cell_type": "code",
   "execution_count": 23,
   "metadata": {},
   "outputs": [
    {
     "output_type": "stream",
     "name": "stdout",
     "text": [
      "[ 1  2  3  4  5  6  7  8  9 10]\n[1 3 5 7 9]\n"
     ]
    }
   ],
   "source": [
    "#Q3 - Extract all odd numbers from array of 1-10\n",
    "\n",
    "q3 = np.arange(1,11)\n",
    "print(q3)\n",
    "\n",
    "print(q3[0:11:2])"
   ]
  },
  {
   "cell_type": "code",
   "execution_count": 104,
   "metadata": {},
   "outputs": [
    {
     "output_type": "stream",
     "name": "stdout",
     "text": [
      "[ 1  2  3  4  5  6  7  8  9 10]\n[-1  2 -1  4 -1  6 -1  8 -1 10]\n"
     ]
    }
   ],
   "source": [
    "q4 = np.arange(1,11)\n",
    "print(q4)\n",
    "second_q4 =np.arange(1,11)\n",
    "second_q4[second_q4%2 == 1] =-1\n",
    "print(second_q4)"
   ]
  },
  {
   "cell_type": "code",
   "execution_count": 49,
   "metadata": {},
   "outputs": [
    {
     "output_type": "stream",
     "name": "stdout",
     "text": [
      "[ 0  5 10 15 20 25 30 35 40 45 50 55]\nq5 is now : [[ 0  5 10 15 20 25]\n [30 35 40 45 50 55]]\n"
     ]
    }
   ],
   "source": [
    "q5 = np.arange(0,60,5)\n",
    "print(q5)\n",
    "\n",
    "amended_q5 = q5.reshape(2,6)\n",
    "print(\"q5 is now :\",amended_q5)"
   ]
  },
  {
   "cell_type": "code",
   "execution_count": 114,
   "metadata": {},
   "outputs": [
    {
     "output_type": "stream",
     "name": "stdout",
     "text": [
      "[[ 2  4  4]\n [ 8 12  9]\n [ 9  3  1]\n [ 1  3  7]\n [ 9 11  8]\n [ 1  4  6]]\n[[ 42  66  70]\n [125 192 206]\n [ 37  64  93]]\nSum of Dot is : 895\nSum of arrays is: 102\n"
     ]
    }
   ],
   "source": [
    "#Create two arrayss a and b, stack these arrays vertically use the np.dot and np.sum to calculate totals\n",
    "\n",
    "import numpy as np\n",
    "aa = np.array([[2,4,4],[8,12,9],[9,3,1]])\n",
    "bb= np.array([[1,3,7],[9,11,8],[1,4,6]])\n",
    "\n",
    "#print(aa)\n",
    "#print(bb)\n",
    "\n",
    "ab =np.vstack([aa,bb])\n",
    "print(ab)\n",
    "\n",
    "c = np.dot(aa ,bb)\n",
    "print(c)\n",
    "\n",
    "sum = np.sum(c)\n",
    "sum1 = np.sum( ab)\n",
    "print(\"Sum of Dot is :\",sum)\n",
    "print(\"Sum of arrays is:\", sum1)"
   ]
  },
  {
   "cell_type": "code",
   "execution_count": 183,
   "metadata": {},
   "outputs": [
    {
     "output_type": "stream",
     "name": "stdout",
     "text": [
      "[1. 1. 1. 2. 2. 2. 3. 3. 3. 1. 2. 3. 1. 2. 3. 1. 2. 3.]\n"
     ]
    }
   ],
   "source": [
    "#Extension 1\n",
    "\n",
    "repeat =np.arange(1,4)\n",
    "new = np.kron(repeat, np.ones((1,3)))\n",
    "b = np.arange(1,4,1)\n",
    "b2 = np.tile(b,3)\n",
    "final = np.concatenate((new2, b2))\n",
    "print(final)"
   ]
  },
  {
   "cell_type": "code",
   "execution_count": 193,
   "metadata": {},
   "outputs": [
    {
     "output_type": "stream",
     "name": "stdout",
     "text": [
      "[1 2 3 4 5]\n[4 5 6 7 8 9]\n"
     ]
    },
    {
     "output_type": "error",
     "ename": "IndexError",
     "evalue": "index 5 is out of bounds for axis 0 with size 5",
     "traceback": [
      "\u001b[0;31m---------------------------------------------------------------------------\u001b[0m",
      "\u001b[0;31mIndexError\u001b[0m                                Traceback (most recent call last)",
      "\u001b[0;32m<ipython-input-193-c2bd015ec03d>\u001b[0m in \u001b[0;36m<module>\u001b[0;34m\u001b[0m\n\u001b[1;32m      7\u001b[0m \u001b[0mprint\u001b[0m\u001b[0;34m(\u001b[0m\u001b[0mb\u001b[0m\u001b[0;34m)\u001b[0m\u001b[0;34m\u001b[0m\u001b[0;34m\u001b[0m\u001b[0m\n\u001b[1;32m      8\u001b[0m \u001b[0;34m\u001b[0m\u001b[0m\n\u001b[0;32m----> 9\u001b[0;31m \u001b[0mb\u001b[0m\u001b[0;34m[\u001b[0m\u001b[0ma\u001b[0m\u001b[0;34m[\u001b[0m\u001b[0mnp\u001b[0m\u001b[0;34m.\u001b[0m\u001b[0msearchsorted\u001b[0m\u001b[0;34m(\u001b[0m\u001b[0ma\u001b[0m\u001b[0;34m,\u001b[0m\u001b[0mb\u001b[0m\u001b[0;34m)\u001b[0m\u001b[0;34m]\u001b[0m\u001b[0;34m!=\u001b[0m \u001b[0mb\u001b[0m\u001b[0;34m]\u001b[0m\u001b[0;34m\u001b[0m\u001b[0;34m\u001b[0m\u001b[0m\n\u001b[0m",
      "\u001b[0;31mIndexError\u001b[0m: index 5 is out of bounds for axis 0 with size 5"
     ]
    }
   ],
   "source": [
    "#Extention 2\n",
    "\n",
    "a = np.arange(1,6)\n",
    "b = np.arange(4,10)\n",
    "\n",
    "print(a)\n",
    "print(b)\n",
    "b[a[np.searchsorted(a,b)]!= b]\n"
   ]
  },
  {
   "cell_type": "code",
   "execution_count": null,
   "metadata": {},
   "outputs": [],
   "source": []
  }
 ]
}